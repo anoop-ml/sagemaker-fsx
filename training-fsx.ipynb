{
 "cells": [
  {
   "cell_type": "markdown",
   "id": "c94d3c09",
   "metadata": {},
   "source": [
    "## SageMaker training with FSx"
   ]
  },
  {
   "cell_type": "markdown",
   "id": "1e301543",
   "metadata": {},
   "source": [
    "This sample shows how to:\n",
    "\n",
    "- Setup FSx\n",
    "- Associate data in S3 with FSx\n",
    "- Run a SageMaker Training job using data from FSx mount\n",
    "- Save artifacts into FSx which are automatically pushed to S3\n",
    "- Tear down the infrastructure\n",
    "\n",
    "Checkout this [blog](https://aws.amazon.com/blogs/machine-learning/choose-the-best-data-source-for-your-amazon-sagemaker-training-job/) to verify if FSx is needed for your use-case to save operational costs. \n",
    "\n",
    "**Please make sure the CIDR block in setup/cfn-nlp.yaml does not conflict with your existing VPC. You can also change FSx storage (currently set at 1.2 TB) depending on your data sets**"
   ]
  },
  {
   "cell_type": "code",
   "execution_count": 60,
   "id": "30a415ac",
   "metadata": {},
   "outputs": [],
   "source": [
    "# Imports\n",
    "import os\n",
    "import time\n",
    "import boto3\n",
    "from sagemaker import get_execution_role\n",
    "from sagemaker.pytorch import PyTorch\n",
    "from sagemaker.inputs import FileSystemInput\n",
    "\n",
    "# Clients\n",
    "cfn_client = boto3.client(\"cloudformation\", region_name=region)\n",
    "fsx_client = boto3.client(\"fsx\", region_name=region)\n",
    "\n",
    "# Inputs\n",
    "region = \"us-east-1\"  # update this if your region is different\n",
    "region_az = \"us-east-1c\"  # customize this as needed. Your FSx will be set up in a subnet in this AZ\n",
    "cfn_stack_name = 'fsx-training'  # cloudformation stack name\n",
    "\n",
    "s3_data_bucket = 's3://sagemaker-us-east-1-988346548731'  # s3 bucket for training artifacts and datasets\n",
    "s3_data_train_prefix = 'train'  # s3 training data set\n",
    "s3_data_model_prefix = 'model_dir' # s3 path to save model\n",
    "s3_data_checkpoint_prefix = 'checkpoint_dir'  # s3 path to save model checkpoints\n",
    "fsx_file_system_path = 'fsx-train'  # this is file system path on FSx for the data, can be anything"
   ]
  },
  {
   "cell_type": "code",
   "execution_count": 28,
   "id": "d2e01b83",
   "metadata": {},
   "outputs": [],
   "source": [
    "# Setup infrastructure using CloudFormation\n",
    "with open(\"setup/cfn-nlp.yaml\", \"r\") as f:\n",
    "    template_body = f.read()\n",
    "    \n",
    "create_stack_response = cfn_client.create_stack(\n",
    "    StackName=cfn_stack_name,\n",
    "    TemplateBody=template_body,\n",
    "    Parameters=[\n",
    "        {\n",
    "            'ParameterKey': 'AZ',\n",
    "            'ParameterValue': region_az\n",
    "        }\n",
    "    ]\n",
    ")\n",
    "\n",
    "create_stack_response"
   ]
  },
  {
   "cell_type": "code",
   "execution_count": 37,
   "id": "a7250b9d",
   "metadata": {
    "scrolled": true
   },
   "outputs": [
    {
     "name": "stdout",
     "output_type": "stream",
     "text": [
      "Create in progress. Waiting..\n",
      "Create in progress. Waiting..\n",
      "Create in progress. Waiting..\n",
      "Create in progress. Waiting..\n",
      "Create in progress. Waiting..\n",
      "Create in progress. Waiting..\n",
      "Stack created!\n"
     ]
    }
   ],
   "source": [
    "# Wait for stack to be created, it takes ~10 minutes to complete.\n",
    "stack_id = create_stack_response['StackId']\n",
    "\n",
    "while True:\n",
    "    response = cfn_client.describe_stacks(\n",
    "        StackName=stack_id\n",
    "    )\n",
    "    status = response['Stacks'][0]['StackStatus']\n",
    "    if status== \"CREATE_IN_PROGRESS\":\n",
    "        print(\"Create in progress. Waiting..\")\n",
    "        time.sleep(30)\n",
    "    elif status==\"CREATE_COMPLETE\":\n",
    "        print(\"Stack created!\")\n",
    "        break\n",
    "    else:\n",
    "        print(\"Error creating stack - check the CFN console\")\n",
    "        break"
   ]
  },
  {
   "cell_type": "code",
   "execution_count": 57,
   "id": "1c3a5ac1",
   "metadata": {},
   "outputs": [
    {
     "name": "stdout",
     "output_type": "stream",
     "text": [
      "FSx ID: fs-049c156b4adff4308\n",
      "Security Group ID: sg-01e94965efb7c618d\n",
      "Private Subnet ID: subnet-0b14dd61ba3bba5f5\n",
      "FSx Mount path: tb6ttbev\n"
     ]
    }
   ],
   "source": [
    "# Get stack outputs\n",
    "describe_response = cfn_client.describe_stacks(\n",
    "    StackName=stack_id\n",
    ")\n",
    "\n",
    "outputs = describe_response['Stacks'][0]['Outputs']\n",
    "\n",
    "for output in outputs:\n",
    "    if output['OutputKey'] == 'sg':\n",
    "        sec_group = output['OutputValue']\n",
    "    elif output['OutputKey'] == 'outputfsx':\n",
    "        fsx_id = output['OutputValue']\n",
    "    elif output['OutputKey'] == 'privatesubnet':\n",
    "        private_subnet_id = output['OutputValue']\n",
    "        \n",
    "fsx_response = fsx_client.describe_file_systems(\n",
    "    FileSystemIds=[fsx_id]\n",
    ")\n",
    "\n",
    "fsx_mount = fsx_response['FileSystems'][0]['LustreConfiguration']['MountName']\n",
    "\n",
    "print(\"FSx ID:\", fsx_id)\n",
    "print(\"Security Group ID:\", sec_group)\n",
    "print(\"Private Subnet ID:\", private_subnet_id)\n",
    "print(\"FSx Mount path:\", fsx_mount)"
   ]
  },
  {
   "cell_type": "code",
   "execution_count": 77,
   "id": "4e4820a4",
   "metadata": {},
   "outputs": [
    {
     "data": {
      "text/plain": [
       "{'Association': {'AssociationId': 'dra-01a6a11ae830552b4',\n",
       "  'ResourceARN': 'arn:aws:fsx:us-east-1:988346548731:association/fs-049c156b4adff4308/dra-01a6a11ae830552b4',\n",
       "  'FileSystemId': 'fs-049c156b4adff4308',\n",
       "  'Lifecycle': 'CREATING',\n",
       "  'FileSystemPath': '/fsx-train',\n",
       "  'DataRepositoryPath': 's3://sagemaker-us-east-1-988346548731',\n",
       "  'BatchImportMetaDataOnCreate': True,\n",
       "  'ImportedFileChunkSize': 1024,\n",
       "  'S3': {'AutoImportPolicy': {'Events': ['NEW', 'CHANGED', 'DELETED']}},\n",
       "  'Tags': [],\n",
       "  'CreationTime': datetime.datetime(2022, 5, 4, 22, 24, 25, 513000, tzinfo=tzlocal())},\n",
       " 'ResponseMetadata': {'RequestId': '9a331141-1aa8-4d46-a5e9-1b86edc2babc',\n",
       "  'HTTPStatusCode': 200,\n",
       "  'HTTPHeaders': {'date': 'Wed, 04 May 2022 22:24:25 GMT',\n",
       "   'content-type': 'application/x-amz-json-1.1',\n",
       "   'content-length': '486',\n",
       "   'connection': 'keep-alive',\n",
       "   'x-amzn-requestid': '9a331141-1aa8-4d46-a5e9-1b86edc2babc'},\n",
       "  'RetryAttempts': 0}}"
      ]
     },
     "execution_count": 77,
     "metadata": {},
     "output_type": "execute_result"
    }
   ],
   "source": [
    "# Create a data repository association with S3 to load data\n",
    "# and persist changes back to S3 to save training artifacts\n",
    "\n",
    "fsx_s3_response = fsx_client.create_data_repository_association(\n",
    "    FileSystemId=fsx_id,\n",
    "    FileSystemPath=f\"/{fsx_file_system_path}\",\n",
    "    DataRepositoryPath=s3_data_bucket,\n",
    "    BatchImportMetaDataOnCreate=True,\n",
    "    S3={\n",
    "        \"AutoImportPolicy\": {\n",
    "            \"Events\": ['NEW', 'CHANGED', 'DELETED']\n",
    "        }\n",
    "    }\n",
    ")\n",
    "\n",
    "fsx_s3_response"
   ]
  },
  {
   "cell_type": "code",
   "execution_count": 78,
   "id": "5ca36c72",
   "metadata": {
    "scrolled": true
   },
   "outputs": [
    {
     "name": "stdout",
     "output_type": "stream",
     "text": [
      "Create in progress. Waiting..\n",
      "Create in progress. Waiting..\n",
      "Create in progress. Waiting..\n",
      "Create in progress. Waiting..\n",
      "Create in progress. Waiting..\n",
      "Create in progress. Waiting..\n",
      "Create in progress. Waiting..\n",
      "Create in progress. Waiting..\n",
      "Create in progress. Waiting..\n",
      "Create in progress. Waiting..\n",
      "Create in progress. Waiting..\n",
      "Create in progress. Waiting..\n",
      "Create in progress. Waiting..\n",
      "Create in progress. Waiting..\n",
      "FSx - S3 association complete!\n"
     ]
    }
   ],
   "source": [
    "# Wait for association to be complete\n",
    "while True:\n",
    "    fsx_s3_assoc = fsx_client.describe_data_repository_associations(\n",
    "        AssociationIds=[fsx_s3_response['Association']['AssociationId']]\n",
    "    )\n",
    "    fsx_status = fsx_s3_assoc['Associations'][0]['Lifecycle']\n",
    "\n",
    "    if fsx_status== \"CREATING\":\n",
    "        print(\"Create in progress. Waiting..\")\n",
    "        time.sleep(30)\n",
    "    elif fsx_status==\"AVAILABLE\":\n",
    "        print(\"FSx - S3 association complete!\")\n",
    "        break\n",
    "    else:\n",
    "        print(\"Error creating the association, with status\", fx_status)\n",
    "        breaksec_group"
   ]
  },
  {
   "cell_type": "markdown",
   "id": "2078fa04",
   "metadata": {},
   "source": [
    "Now, we create a SageMaker training job that uses FSx as the training input. For detailed parameters for training job, see the [CreateTrainingJob API](https://docs.aws.amazon.com/sagemaker/latest/APIReference/API_CreateTrainingJob.html)."
   ]
  },
  {
   "cell_type": "code",
   "execution_count": 79,
   "id": "86d390de",
   "metadata": {},
   "outputs": [],
   "source": [
    "# Setup fsx config for data channels\n",
    "fsx_directory_path = f\"/{fsx_mount}/{fsx_file_system_path}\"\n",
    "\n",
    "fsx_input = FileSystemInput(\n",
    "    file_system_id=fsx_id,\n",
    "    file_system_type='FSxLustre',\n",
    "    directory_path=fsx_directory_path,\n",
    "    file_system_access_mode=\"rw\", # write needed for saving model artifacts to fsx\n",
    ")\n",
    "data_channels = {\"train\": fsx_input}\n",
    "\n",
    "# for ease, so that you can use fsx for data and training artifacts\n",
    "SM_TRAIN_DIR = \"/opt/ml/input/data/train\"  # path where fsx is mounted in the training container\n",
    "hyperparameters = {}\n",
    "hyperparameters[\"checkpoint-dir\"] = f\"{SM_TRAIN_DIR}/{s3_data_checkpoint_prefix}\"\n",
    "hyperparameters[\"model-dir\"] = f\"{SM_TRAIN_DIR}/{s3_data_model_prefix}\"\n",
    "hyperparameters[\"training-dir\"] = f\"{SM_TRAIN_DIR}/{s3_data_train_prefix}\""
   ]
  },
  {
   "cell_type": "code",
   "execution_count": 80,
   "id": "7d6283ea",
   "metadata": {
    "scrolled": true
   },
   "outputs": [
    {
     "name": "stdout",
     "output_type": "stream",
     "text": [
      "2022-05-04 22:32:28 Starting - Starting the training job...\n",
      "2022-05-04 22:32:52 Starting - Launching requested ML instancesProfilerReport-1651703548: InProgress\n",
      ".........\n",
      "2022-05-04 22:34:12 Starting - Preparing the instances for training......\n",
      "2022-05-04 22:35:13 Downloading - Downloading input data\n",
      "2022-05-04 22:35:13 Training - Downloading the training image...\n",
      "2022-05-04 22:35:58 Training - Training image download completed. Training in progress..\u001b[34mbash: cannot set terminal process group (-1): Inappropriate ioctl for device\u001b[0m\n",
      "\u001b[34mbash: no job control in this shell\u001b[0m\n",
      "\u001b[34m2022-05-04 22:35:59,154 sagemaker-training-toolkit INFO     Imported framework sagemaker_pytorch_container.training\u001b[0m\n",
      "\u001b[34m2022-05-04 22:35:59,157 sagemaker-training-toolkit INFO     No GPUs detected (normal if no gpus installed)\u001b[0m\n",
      "\u001b[34m2022-05-04 22:35:59,168 sagemaker_pytorch_container.training INFO     Block until all host DNS lookups succeed.\u001b[0m\n",
      "\u001b[34m2022-05-04 22:35:59,175 sagemaker_pytorch_container.training INFO     Invoking user training script.\u001b[0m\n",
      "\u001b[34m2022-05-04 22:35:59,596 sagemaker-training-toolkit INFO     No GPUs detected (normal if no gpus installed)\u001b[0m\n",
      "\u001b[34m2022-05-04 22:35:59,609 sagemaker-training-toolkit INFO     No GPUs detected (normal if no gpus installed)\u001b[0m\n",
      "\u001b[34m2022-05-04 22:35:59,620 sagemaker-training-toolkit INFO     No GPUs detected (normal if no gpus installed)\u001b[0m\n",
      "\u001b[34m2022-05-04 22:35:59,629 sagemaker-training-toolkit INFO     Invoking user script\u001b[0m\n",
      "\u001b[34mTraining Env:\u001b[0m\n",
      "\u001b[34m{\n",
      "    \"additional_framework_parameters\": {},\n",
      "    \"channel_input_dirs\": {\n",
      "        \"train\": \"/opt/ml/input/data/train\"\n",
      "    },\n",
      "    \"current_host\": \"algo-1\",\n",
      "    \"framework_module\": \"sagemaker_pytorch_container.training:main\",\n",
      "    \"hosts\": [\n",
      "        \"algo-1\"\n",
      "    ],\n",
      "    \"hyperparameters\": {\n",
      "        \"checkpoint-dir\": \"/opt/ml/input/data/train/checkpoint_dir\",\n",
      "        \"training-dir\": \"/opt/ml/input/data/train/train\",\n",
      "        \"model-dir\": \"/opt/ml/input/data/train/model_dir\"\n",
      "    },\n",
      "    \"input_config_dir\": \"/opt/ml/input/config\",\n",
      "    \"input_data_config\": {\n",
      "        \"train\": {\n",
      "            \"TrainingInputMode\": \"File\",\n",
      "            \"S3DistributionType\": \"FullyReplicated\",\n",
      "            \"RecordWrapperType\": \"None\"\n",
      "        }\n",
      "    },\n",
      "    \"input_dir\": \"/opt/ml/input\",\n",
      "    \"is_master\": true,\n",
      "    \"job_name\": \"sagemaker-fsx-mount-sample-2022-05-04-22-32-27-899\",\n",
      "    \"log_level\": 20,\n",
      "    \"master_hostname\": \"algo-1\",\n",
      "    \"model_dir\": \"/opt/ml/model\",\n",
      "    \"module_dir\": \"s3://sagemaker-us-east-1-988346548731/sagemaker-fsx-mount-sample-2022-05-04-22-32-27-899/source/sourcedir.tar.gz\",\n",
      "    \"module_name\": \"train\",\n",
      "    \"network_interface_name\": \"eth0\",\n",
      "    \"num_cpus\": 4,\n",
      "    \"num_gpus\": 0,\n",
      "    \"output_data_dir\": \"/opt/ml/output/data\",\n",
      "    \"output_dir\": \"/opt/ml/output\",\n",
      "    \"output_intermediate_dir\": \"/opt/ml/output/intermediate\",\n",
      "    \"resource_config\": {\n",
      "        \"current_host\": \"algo-1\",\n",
      "        \"hosts\": [\n",
      "            \"algo-1\"\n",
      "        ],\n",
      "        \"network_interface_name\": \"eth0\"\n",
      "    },\n",
      "    \"user_entry_point\": \"train.py\"\u001b[0m\n",
      "\u001b[34m}\u001b[0m\n",
      "\u001b[34mEnvironment variables:\u001b[0m\n",
      "\u001b[34mSM_HOSTS=[\"algo-1\"]\u001b[0m\n",
      "\u001b[34mSM_NETWORK_INTERFACE_NAME=eth0\u001b[0m\n",
      "\u001b[34mSM_HPS={\"checkpoint-dir\":\"/opt/ml/input/data/train/checkpoint_dir\",\"model-dir\":\"/opt/ml/input/data/train/model_dir\",\"training-dir\":\"/opt/ml/input/data/train/train\"}\u001b[0m\n",
      "\u001b[34mSM_USER_ENTRY_POINT=train.py\u001b[0m\n",
      "\u001b[34mSM_FRAMEWORK_PARAMS={}\u001b[0m\n",
      "\u001b[34mSM_RESOURCE_CONFIG={\"current_host\":\"algo-1\",\"hosts\":[\"algo-1\"],\"network_interface_name\":\"eth0\"}\u001b[0m\n",
      "\u001b[34mSM_INPUT_DATA_CONFIG={\"train\":{\"RecordWrapperType\":\"None\",\"S3DistributionType\":\"FullyReplicated\",\"TrainingInputMode\":\"File\"}}\u001b[0m\n",
      "\u001b[34mSM_OUTPUT_DATA_DIR=/opt/ml/output/data\u001b[0m\n",
      "\u001b[34mSM_CHANNELS=[\"train\"]\u001b[0m\n",
      "\u001b[34mSM_CURRENT_HOST=algo-1\u001b[0m\n",
      "\u001b[34mSM_MODULE_NAME=train\u001b[0m\n",
      "\u001b[34mSM_LOG_LEVEL=20\u001b[0m\n",
      "\u001b[34mSM_FRAMEWORK_MODULE=sagemaker_pytorch_container.training:main\u001b[0m\n",
      "\u001b[34mSM_INPUT_DIR=/opt/ml/input\u001b[0m\n",
      "\u001b[34mSM_INPUT_CONFIG_DIR=/opt/ml/input/config\u001b[0m\n",
      "\u001b[34mSM_OUTPUT_DIR=/opt/ml/output\u001b[0m\n",
      "\u001b[34mSM_NUM_CPUS=4\u001b[0m\n",
      "\u001b[34mSM_NUM_GPUS=0\u001b[0m\n",
      "\u001b[34mSM_MODEL_DIR=/opt/ml/model\u001b[0m\n",
      "\u001b[34mSM_MODULE_DIR=s3://sagemaker-us-east-1-988346548731/sagemaker-fsx-mount-sample-2022-05-04-22-32-27-899/source/sourcedir.tar.gz\u001b[0m\n",
      "\u001b[34mSM_TRAINING_ENV={\"additional_framework_parameters\":{},\"channel_input_dirs\":{\"train\":\"/opt/ml/input/data/train\"},\"current_host\":\"algo-1\",\"framework_module\":\"sagemaker_pytorch_container.training:main\",\"hosts\":[\"algo-1\"],\"hyperparameters\":{\"checkpoint-dir\":\"/opt/ml/input/data/train/checkpoint_dir\",\"model-dir\":\"/opt/ml/input/data/train/model_dir\",\"training-dir\":\"/opt/ml/input/data/train/train\"},\"input_config_dir\":\"/opt/ml/input/config\",\"input_data_config\":{\"train\":{\"RecordWrapperType\":\"None\",\"S3DistributionType\":\"FullyReplicated\",\"TrainingInputMode\":\"File\"}},\"input_dir\":\"/opt/ml/input\",\"is_master\":true,\"job_name\":\"sagemaker-fsx-mount-sample-2022-05-04-22-32-27-899\",\"log_level\":20,\"master_hostname\":\"algo-1\",\"model_dir\":\"/opt/ml/model\",\"module_dir\":\"s3://sagemaker-us-east-1-988346548731/sagemaker-fsx-mount-sample-2022-05-04-22-32-27-899/source/sourcedir.tar.gz\",\"module_name\":\"train\",\"network_interface_name\":\"eth0\",\"num_cpus\":4,\"num_gpus\":0,\"output_data_dir\":\"/opt/ml/output/data\",\"output_dir\":\"/opt/ml/output\",\"output_intermediate_dir\":\"/opt/ml/output/intermediate\",\"resource_config\":{\"current_host\":\"algo-1\",\"hosts\":[\"algo-1\"],\"network_interface_name\":\"eth0\"},\"user_entry_point\":\"train.py\"}\u001b[0m\n",
      "\u001b[34mSM_USER_ARGS=[\"--checkpoint-dir\",\"/opt/ml/input/data/train/checkpoint_dir\",\"--model-dir\",\"/opt/ml/input/data/train/model_dir\",\"--training-dir\",\"/opt/ml/input/data/train/train\"]\u001b[0m\n",
      "\u001b[34mSM_OUTPUT_INTERMEDIATE_DIR=/opt/ml/output/intermediate\u001b[0m\n",
      "\u001b[34mSM_CHANNEL_TRAIN=/opt/ml/input/data/train\u001b[0m\n",
      "\u001b[34mSM_HP_CHECKPOINT-DIR=/opt/ml/input/data/train/checkpoint_dir\u001b[0m\n",
      "\u001b[34mSM_HP_TRAINING-DIR=/opt/ml/input/data/train/train\u001b[0m\n",
      "\u001b[34mSM_HP_MODEL-DIR=/opt/ml/input/data/train/model_dir\u001b[0m\n",
      "\u001b[34mPYTHONPATH=/opt/ml/code:/opt/conda/bin:/opt/conda/lib/python36.zip:/opt/conda/lib/python3.6:/opt/conda/lib/python3.6/lib-dynload:/opt/conda/lib/python3.6/site-packages\u001b[0m\n",
      "\u001b[34mInvoking script with the following command:\u001b[0m\n",
      "\u001b[34m/opt/conda/bin/python3.6 train.py --checkpoint-dir /opt/ml/input/data/train/checkpoint_dir --model-dir /opt/ml/input/data/train/model_dir --training-dir /opt/ml/input/data/train/train\u001b[0m\n",
      "\u001b[34margs Namespace(checkpoint_dir='/opt/ml/input/data/train/checkpoint_dir', model_dir='/opt/ml/input/data/train/model_dir', training_dir='/opt/ml/input/data/train/train')\u001b[0m\n",
      "\u001b[34mlisting training files ['model.tar.gz', 'abalone.csv']\u001b[0m\n",
      "\u001b[34mRunning epoch 0...\u001b[0m\n",
      "\u001b[34mCompleted epoch 0.\u001b[0m\n",
      "\u001b[34mRunning epoch 1...\u001b[0m\n",
      "\u001b[34mCompleted epoch 1.\u001b[0m\n",
      "\u001b[34mRunning epoch 2...\u001b[0m\n",
      "\u001b[34mCompleted epoch 2.\u001b[0m\n",
      "\u001b[34mRunning epoch 3...\u001b[0m\n",
      "\u001b[34mCompleted epoch 3.\u001b[0m\n",
      "\u001b[34mRunning epoch 4...\u001b[0m\n",
      "\u001b[34mCompleted epoch 4.\u001b[0m\n",
      "\u001b[34m2022-05-04 22:36:09,681 sagemaker-training-toolkit INFO     Reporting training SUCCESS\u001b[0m\n",
      "\n",
      "2022-05-04 22:36:17 Uploading - Uploading generated training model\n",
      "2022-05-04 22:36:17 Completed - Training job completed\n",
      "Training seconds: 78\n",
      "Billable seconds: 78\n"
     ]
    }
   ],
   "source": [
    "# setup estimator and invoke\n",
    "instance_type = \"ml.m5.xlarge\"\n",
    "instance_count = 1\n",
    "base_job_name = f'sagemaker-fsx-mount-sample'\n",
    "\n",
    "estimator = PyTorch(\n",
    "    entry_point=\"train.py\",\n",
    "    source_dir=os.getcwd(),\n",
    "    instance_type=instance_type,\n",
    "    role=get_execution_role(),\n",
    "    instance_count=instance_count,\n",
    "    framework_version=\"1.8.1\",\n",
    "    py_version=\"py36\",\n",
    "    checkpoint_s3_uri=None,  # as it is FSx\n",
    "    checkpoint_local_path=hyperparameters[\"checkpoint-dir\"],  # FSx\n",
    "    hyperparameters=hyperparameters,\n",
    "    base_job_name=base_job_name,\n",
    "    subnets = [private_subnet_id], # Give SageMaker Training Jobs access to FSx resources in your Amazon VPC\n",
    "    security_group_ids=[sec_group],\n",
    "    max_retry_attempts=30)\n",
    "\n",
    "estimator.fit(inputs=data_channels)"
   ]
  },
  {
   "cell_type": "markdown",
   "id": "33c198cc",
   "metadata": {},
   "source": [
    "### Clean up resources"
   ]
  },
  {
   "cell_type": "markdown",
   "id": "7fdebfba",
   "metadata": {},
   "source": [
    "You can tear down the CloudFormation stack to delete the VPC and associated resources, and the FSx file system to avoid incurring costs."
   ]
  },
  {
   "cell_type": "code",
   "execution_count": 81,
   "id": "c74b27f1",
   "metadata": {},
   "outputs": [
    {
     "data": {
      "text/plain": [
       "{'ResponseMetadata': {'RequestId': '514e896f-cb7a-4b65-9a92-d726d986b5ed',\n",
       "  'HTTPStatusCode': 200,\n",
       "  'HTTPHeaders': {'x-amzn-requestid': '514e896f-cb7a-4b65-9a92-d726d986b5ed',\n",
       "   'content-type': 'text/xml',\n",
       "   'content-length': '212',\n",
       "   'date': 'Wed, 04 May 2022 22:39:07 GMT'},\n",
       "  'RetryAttempts': 0}}"
      ]
     },
     "execution_count": 81,
     "metadata": {},
     "output_type": "execute_result"
    }
   ],
   "source": [
    "# Delete the stack\n",
    "\n",
    "delete_response = cfn_client.delete_stack(\n",
    "    StackName=stack_id\n",
    ")\n",
    "\n",
    "delete_response"
   ]
  },
  {
   "cell_type": "code",
   "execution_count": null,
   "id": "c7c92136",
   "metadata": {},
   "outputs": [],
   "source": []
  }
 ],
 "metadata": {
  "kernelspec": {
   "display_name": "conda_python3",
   "language": "python",
   "name": "conda_python3"
  },
  "language_info": {
   "codemirror_mode": {
    "name": "ipython",
    "version": 3
   },
   "file_extension": ".py",
   "mimetype": "text/x-python",
   "name": "python",
   "nbconvert_exporter": "python",
   "pygments_lexer": "ipython3",
   "version": "3.8.12"
  }
 },
 "nbformat": 4,
 "nbformat_minor": 5
}
